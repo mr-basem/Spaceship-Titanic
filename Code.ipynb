{
 "cells": [
  {
   "cell_type": "code",
   "execution_count": 29,
   "id": "ec14818f-74a2-49f8-8fd2-40210dd65c11",
   "metadata": {},
   "outputs": [
    {
     "name": "stderr",
     "output_type": "stream",
     "text": [
      "C:\\Users\\FreeComp\\AppData\\Local\\Temp\\ipykernel_5992\\1644366352.py:3: DtypeWarning: Columns (2,6) have mixed types. Specify dtype option on import or set low_memory=False.\n",
      "  train_df = pd.read_csv('train.csv')\n"
     ]
    }
   ],
   "source": [
    "import pandas as pd\n",
    "\n",
    "train_df = pd.read_csv('train.csv')\n",
    "test_df = pd.read_csv('test.csv')\n"
   ]
  },
  {
   "cell_type": "code",
   "execution_count": 30,
   "id": "b585680d-ff13-4299-a899-077f472cb245",
   "metadata": {},
   "outputs": [
    {
     "name": "stderr",
     "output_type": "stream",
     "text": [
      "C:\\Users\\FreeComp\\AppData\\Local\\Temp\\ipykernel_5992\\448761194.py:7: FutureWarning: Downcasting object dtype arrays on .fillna, .ffill, .bfill is deprecated and will change in a future version. Call result.infer_objects(copy=False) instead. To opt-in to the future behavior, set `pd.set_option('future.no_silent_downcasting', True)`\n",
      "  train_df[col] = train_df[col].fillna(train_df[col].mode()[0])\n",
      "C:\\Users\\FreeComp\\AppData\\Local\\Temp\\ipykernel_5992\\448761194.py:9: FutureWarning: Downcasting object dtype arrays on .fillna, .ffill, .bfill is deprecated and will change in a future version. Call result.infer_objects(copy=False) instead. To opt-in to the future behavior, set `pd.set_option('future.no_silent_downcasting', True)`\n",
      "  test_df[col] = test_df[col].fillna(train_df[col].mode()[0])\n"
     ]
    }
   ],
   "source": [
    "train_df = train_df.dropna(axis=1, how='all')\n",
    "test_df = test_df.dropna(axis=1, how='all')\n",
    "\n",
    "for col in train_df.select_dtypes(include='object').columns:\n",
    "    train_df[col] = train_df[col].fillna(train_df[col].mode()[0])\n",
    "    if col in test_df.columns:\n",
    "        test_df[col] = test_df[col].fillna(train_df[col].mode()[0])\n",
    "\n",
    "for col in train_df.select_dtypes(include='number').columns:\n",
    "    train_df[col] = train_df[col].fillna(train_df[col].mean())\n",
    "    if col in test_df.columns:\n",
    "        test_df[col] = test_df[col].fillna(train_df[col].mean())\n"
   ]
  },
  {
   "cell_type": "code",
   "execution_count": 31,
   "id": "acf63f75-31c9-4429-ae2e-a6e44bcc9669",
   "metadata": {},
   "outputs": [],
   "source": [
    "bool_cols = ['CryoSleep', 'VIP', 'Transported']\n",
    "for col in bool_cols:\n",
    "    if col in train_df.columns:\n",
    "        train_df[col] = train_df[col].astype(int)\n",
    "    if col in test_df.columns:\n",
    "        test_df[col] = test_df[col].astype(int)\n"
   ]
  },
  {
   "cell_type": "code",
   "execution_count": 32,
   "id": "613c92b3-4e0d-45bc-979b-2a5d10a08513",
   "metadata": {},
   "outputs": [],
   "source": [
    "X_train = train_df.drop(['Transported', 'PassengerId', 'Name', 'Cabin'], axis=1)\n",
    "y_train = train_df['Transported']\n",
    "\n",
    "X_test = test_df.drop(['PassengerId', 'Name', 'Cabin'], axis=1)\n",
    "\n",
    "X_train_encoded = pd.get_dummies(X_train)\n",
    "X_test_encoded = pd.get_dummies(X_test)\n",
    "\n",
    "X_test_encoded = X_test_encoded.reindex(columns=X_train_encoded.columns, fill_value=0)\n"
   ]
  },
  {
   "cell_type": "code",
   "execution_count": 33,
   "id": "ba1f25a2-6371-411c-a551-2410b4e81dd3",
   "metadata": {},
   "outputs": [],
   "source": [
    "X_train = train_df.drop(['Transported', 'PassengerId', 'Name', 'Cabin'], axis=1)\n",
    "y_train = train_df['Transported']\n",
    "\n",
    "X_test = test_df.drop(['PassengerId', 'Name', 'Cabin'], axis=1)\n",
    "\n",
    "X_train_encoded = pd.get_dummies(X_train)\n",
    "X_test_encoded = pd.get_dummies(X_test)\n",
    "\n",
    "X_test_encoded = X_test_encoded.reindex(columns=X_train_encoded.columns, fill_value=0)\n"
   ]
  },
  {
   "cell_type": "code",
   "execution_count": 42,
   "id": "5c31f012-4ab8-4d17-8b4a-545708a1c5f0",
   "metadata": {},
   "outputs": [
    {
     "name": "stdout",
     "output_type": "stream",
     "text": [
      "Validation Accuracy: 0.78205865439908\n",
      "[[644 217]\n",
      " [162 716]]\n",
      "              precision    recall  f1-score   support\n",
      "\n",
      "           0       0.80      0.75      0.77       861\n",
      "           1       0.77      0.82      0.79       878\n",
      "\n",
      "    accuracy                           0.78      1739\n",
      "   macro avg       0.78      0.78      0.78      1739\n",
      "weighted avg       0.78      0.78      0.78      1739\n",
      "\n"
     ]
    }
   ],
   "source": [
    "import lightgbm as lgb\n",
    "from sklearn.model_selection import train_test_split\n",
    "from sklearn.metrics import accuracy_score, classification_report, confusion_matrix\n",
    "\n",
    "X_tr, X_val, y_tr, y_val = train_test_split(X_train_encoded, y_train, test_size=0.2, random_state=42)\n",
    "\n",
    "model = lgb.LGBMClassifier(random_state=42)\n",
    "\n",
    "model.fit(X_tr, y_tr)\n",
    "\n",
    "val_preds = model.predict(X_val)\n",
    "print(\"Validation Accuracy:\", accuracy_score(y_val, val_preds))\n",
    "print(confusion_matrix(y_val, val_preds))\n",
    "print(classification_report(y_val, val_preds))\n"
   ]
  },
  {
   "cell_type": "code",
   "execution_count": 44,
   "id": "e2f9e922-b677-4de1-b936-600befff04ee",
   "metadata": {},
   "outputs": [
    {
     "name": "stdout",
     "output_type": "stream",
     "text": [
      "Saved submission.csv\n"
     ]
    }
   ],
   "source": [
    "test_preds_prob = model.predict_proba(X_test_encoded)[:,1]\n",
    "\n",
    "test_preds = test_preds_prob > 0.5\n",
    "\n",
    "submission = pd.DataFrame({\n",
    "    'PassengerId': test_df['PassengerId'],\n",
    "    'Transported': test_preds\n",
    "})\n",
    "\n",
    "submission.to_csv('submission.csv', index=False)\n",
    "print(\"Saved submission.csv\")\n"
   ]
  },
  {
   "cell_type": "code",
   "execution_count": 38,
   "id": "11fae6a9-2858-4f2d-8a1a-c0a72de70c61",
   "metadata": {
    "scrolled": true
   },
   "outputs": [],
   "source": [
    "test_preds_prob = model.predict_proba(X_test_encoded)[:, 1]\n",
    "test_preds = (test_preds_prob > 0.5)\n",
    "\n",
    "test_passenger_ids = pd.read_csv('test.csv')['PassengerId']\n",
    "\n",
    "submission = pd.DataFrame({\n",
    "    \"PassengerId\": test_passenger_ids,\n",
    "    \"Transported\": test_preds\n",
    "})\n",
    "\n",
    "submission.to_csv(\"submission.csv\", index=False)\n"
   ]
  },
  {
   "cell_type": "code",
   "execution_count": 46,
   "id": "0fe89252-5d81-4418-88b8-e0b6e56606a2",
   "metadata": {},
   "outputs": [
    {
     "data": {
      "image/png": "[encoded data removed]",
      "text/plain": [
       "<Figure size 800x600 with 2 Axes>"
      ]
     },
     "metadata": {},
     "output_type": "display_data"
    }
   ],
   "source": [
    "import matplotlib.pyplot as plt\n",
    "import seaborn as sns\n",
    "from sklearn.metrics import confusion_matrix, classification_report\n",
    "\n",
    "conf_matrix = [[644, 217],\n",
    "               [162, 716]]\n",
    "\n",
    "labels = ['Not Transported (0)', 'Transported (1)']\n",
    "\n",
    "plt.figure(figsize=(8, 6))\n",
    "sns.heatmap(conf_matrix, annot=True, fmt='d', cmap='Blues',\n",
    "            xticklabels=labels, yticklabels=labels)\n",
    "plt.title('Confusion Matrix')\n",
    "plt.xlabel('Predicted Label')\n",
    "plt.ylabel('True Label')\n",
    "plt.tight_layout()\n",
    "plt.show()\n"
   ]
  },
  {
   "cell_type": "code",
   "execution_count": null,
   "id": "281c4d72-8702-448a-ba53-1ca65e73b322",
   "metadata": {},
   "outputs": [],
   "source": []
  }
 ],
 "metadata": {
  "kernelspec": {
   "display_name": "Python 3 (ipykernel)",
   "language": "python",
   "name": "python3"
  },
  "language_info": {
   "codemirror_mode": {
    "name": "ipython",
    "version": 3
   },
   "file_extension": ".py",
   "mimetype": "text/x-python",
   "name": "python",
   "nbconvert_exporter": "python",
   "pygments_lexer": "ipython3",
   "version": "3.12.7"
  }
 },
 "nbformat": 4,
 "nbformat_minor": 5
}
